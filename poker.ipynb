{
 "cells": [
  {
   "cell_type": "markdown",
   "id": "01996582-506c-4bc9-9f86-66c75ed51d04",
   "metadata": {},
   "source": [
    "### Imports"
   ]
  },
  {
   "cell_type": "code",
   "execution_count": 13,
   "id": "fd81a34d-d1a5-462c-b7c7-ef4846196ea1",
   "metadata": {},
   "outputs": [],
   "source": [
    "from random import shuffle\n",
    "from copy import deepcopy"
   ]
  },
  {
   "cell_type": "code",
   "execution_count": 14,
   "id": "f5390a35-a035-4d61-8797-11a85ceeb9a7",
   "metadata": {},
   "outputs": [],
   "source": [
    "from IPython.display import HTML, display"
   ]
  },
  {
   "cell_type": "code",
   "execution_count": 15,
   "id": "10a978d8-f5fc-4e60-b3d3-2e6f780f3414",
   "metadata": {},
   "outputs": [],
   "source": [
    "from enum import Enum"
   ]
  },
  {
   "cell_type": "markdown",
   "id": "e52b97b0-d9de-4b99-ac21-ff5f50db6707",
   "metadata": {},
   "source": [
    "### Logic"
   ]
  },
  {
   "cell_type": "code",
   "execution_count": 34,
   "id": "2d2d628b-a1e2-4317-b182-6aa09fb730d1",
   "metadata": {},
   "outputs": [],
   "source": [
    "class Suit(Enum):\n",
    "    SPADES = ('♠', 'black')\n",
    "    HEARTS = ('♥', 'red')\n",
    "    CLUBS = ('♣', 'black')\n",
    "    DIAMONDS = ('♦', 'red')\n",
    "\n",
    "    def __init__(self, symbol, color):\n",
    "        self.symbol = symbol\n",
    "        self.color = color\n",
    "\n",
    "class Rank(Enum):\n",
    "    TWO = '2'\n",
    "    THREE = '3'\n",
    "    FdOUR = '4'\n",
    "    FIVE = '5'\n",
    "    SIX = '6'\n",
    "    SEVEN = '7'\n",
    "    EIGHT = '8'\n",
    "    NINE = '9'\n",
    "    TEN = '10'\n",
    "    JACK = 'J'\n",
    "    QUEEN = 'Q'\n",
    "    KING = 'K'\n",
    "    ACE = 'A'\n",
    "\n",
    "class Card:\n",
    "    def __init__(self, rank: Rank, suit: Suit):\n",
    "        self.rank = rank\n",
    "        self.suit = suit\n",
    "\n",
    "    def __str__(self):\n",
    "        return f\"{self.rank.value}{self.suit.symbol}\"\n",
    "\n",
    "    def __eq__(self, other):\n",
    "        return isinstance(other, Card) and self.rank == other.rank and self.suit == other.suit # Makes sure that other is a card object\n",
    "\n",
    "    def __hash__(self):\n",
    "        return hash((self.rank, self.suit))\n",
    "\n",
    "class Deck:\n",
    "    def __init__(self):\n",
    "        self.cards = []\n",
    "        self.burned = set()\n",
    "        self.dealt = set()\n",
    "        self._populate()\n",
    "\n",
    "    def _populate(self):\n",
    "        for suit in Suit:\n",
    "            for rank in Rank:\n",
    "                self.cards.append(Card(rank, suit))\n",
    "\n",
    "    def deal(self, count=1):\n",
    "        dealt = self.cards[:count] # Syntax has to do with slicing: Grabs first count cards from deck\n",
    "        self.dealt.update(dealt) # Adds cards to self.dealt set (Update is extend() for sets)\n",
    "        self.cards = self.cards[count:] # Removes first count cards from self.cards\n",
    "        return dealt\n",
    "\n",
    "    def burn(self):\n",
    "        if self.cards:\n",
    "            burn_card = self.cards.pop(0)\n",
    "            self.burned.add(burn_card)\n",
    "            return burn_card\n",
    "\n",
    "    def shuffle(self):\n",
    "        \"\"\"Shuffles deck in place, in the future, will want a function that returns a copy for simulations.\"\"\"\n",
    "        # Moves sets back into the deck, and clears the sets, another way to do it would be to use the extend funciton\n",
    "        # For the addition to a list\n",
    "        self.cards += list(self.dealt) + list(self.burned)\n",
    "        self.dealt.clear()\n",
    "        self.burned.clear()\n",
    "        shuffle(deck.cards)"
   ]
  },
  {
   "cell_type": "markdown",
   "id": "2cfd0690-aceb-4a82-abc4-7f2da380b786",
   "metadata": {},
   "source": [
    "### Printing Logic"
   ]
  },
  {
   "cell_type": "code",
   "execution_count": 19,
   "id": "60e1f29f-8180-400d-8c4f-e7e915055a6b",
   "metadata": {},
   "outputs": [],
   "source": [
    "def styled_card_html(card):\n",
    "    \"\"\"Return an HTML-formatted card string with styling for Jupyter.\"\"\"\n",
    "    base_style = (\"display:inline-block; font-family:monospace; font-size:1.2em; \"\\\n",
    "                 \"background:white; color:black; padding: 2px 6px; border-radius: 4px;\"\n",
    "    )\n",
    "\n",
    "    suit_color = \"red\" if card.suit.color == \"red\" else \"black\"\n",
    "    return f'<span style=\"{base_style}\">{card.rank.value}<span style=\"color:{suit_color}\">{card.suit.symbol}</span></span>'"
   ]
  },
  {
   "cell_type": "markdown",
   "id": "e1f3dc01-0846-478a-ac49-17774d989f4c",
   "metadata": {},
   "source": [
    "Display Function to group cards by suit"
   ]
  },
  {
   "cell_type": "code",
   "execution_count": 46,
   "id": "d84e27ba-6f0d-4420-82b0-35265ca68d81",
   "metadata": {},
   "outputs": [],
   "source": [
    "def styled_deck_html(deck):\n",
    "    lines = []\n",
    "\n",
    "    for suit in Suit:\n",
    "        # Collect all cards of this suit\n",
    "        suit_cards = [c for c in deck.cards + list(deck.dealt) + list(deck.burned) if c.suit == suit]\n",
    "\n",
    "        # Sort by rank using Rank enum order\n",
    "        suit_cards.sort(key=lambda c: list(Rank).index(c.rank))\n",
    "\n",
    "        line = ''\n",
    "        for card in suit_cards:\n",
    "            # Color logic\n",
    "            if card in deck.burned:\n",
    "                bg = \"lightcoral\"\n",
    "                text = \"black\"\n",
    "            elif card in deck.dealt:\n",
    "                bg = \"lightblue\"\n",
    "                text = \"black\"\n",
    "            else:\n",
    "                bg = \"white\"\n",
    "                text = \"black\"\n",
    "\n",
    "            style = (\n",
    "                f\"background:{bg}; color:{text}; display:inline-block; \"\n",
    "                f\"font-family:monospace; font-weight:bold; font-size:1.1em; \"\n",
    "                f\"padding:2px 6px; border-radius:4px; margin:1px;\"\n",
    "            )\n",
    "\n",
    "            suit_color = \"red\" if card.suit.color == \"red\" else text\n",
    "            html = f'<span style=\"{style}\">{card.rank.value}<span style=\"color:{suit_color}\">{card.suit.symbol}</span></span>'\n",
    "            line += html\n",
    "\n",
    "        lines.append(f'<div style=\"margin-bottom:15px;\">{line}</div>')\n",
    "\n",
    "    return '<div style=\"line-height: 2;\">' + ''.join(lines) + '</div>'\n"
   ]
  },
  {
   "cell_type": "markdown",
   "id": "9bb6d290-561d-4388-b9c6-2480300f13a2",
   "metadata": {},
   "source": [
    "### Testing"
   ]
  },
  {
   "cell_type": "code",
   "execution_count": 28,
   "id": "c0b84440-c439-4208-8e11-ffa1d5a6c37d",
   "metadata": {},
   "outputs": [
    {
     "data": {
      "text/html": [
       "<span style=\"display:inline-block; font-family:monospace; font-size:1.2em; background:white; color:black; padding: 2px 6px; border-radius: 4px;\">J<span style=\"color:black\">♣</span></span>"
      ],
      "text/plain": [
       "<IPython.core.display.HTML object>"
      ]
     },
     "metadata": {},
     "output_type": "display_data"
    },
    {
     "data": {
      "text/html": [
       "<span style=\"display:inline-block; font-family:monospace; font-size:1.2em; background:white; color:black; padding: 2px 6px; border-radius: 4px;\">9<span style=\"color:red\">♥</span></span>"
      ],
      "text/plain": [
       "<IPython.core.display.HTML object>"
      ]
     },
     "metadata": {},
     "output_type": "display_data"
    }
   ],
   "source": [
    "second_card = Card(Rank.JACK, Suit.CLUBS)\n",
    "card = Card(Rank.NINE, Suit.HEARTS)\n",
    "display(HTML(styled_card_html(second_card)))\n",
    "display(HTML(styled_card_html(card)))"
   ]
  },
  {
   "cell_type": "code",
   "execution_count": 48,
   "id": "9b63dd1f-2e0e-4cee-a65d-db09fe997f97",
   "metadata": {},
   "outputs": [],
   "source": [
    "deck = Deck()"
   ]
  },
  {
   "cell_type": "code",
   "execution_count": 62,
   "id": "1a64529d-9990-498d-aa0c-542adf0b9d32",
   "metadata": {},
   "outputs": [],
   "source": [
    "deck.shuffle()"
   ]
  },
  {
   "cell_type": "code",
   "execution_count": 63,
   "id": "d4a64e57-cd6d-4cfb-a2e3-29afc2902f06",
   "metadata": {},
   "outputs": [],
   "source": [
    "dealt_card = deck.deal()\n",
    "burn_card = deck.burn()\n",
    "dealt2 = deck.deal()\n",
    "burn2 = deck.burn()"
   ]
  },
  {
   "cell_type": "code",
   "execution_count": 64,
   "id": "2ea82474-8c6d-431e-a2da-7deb358664ec",
   "metadata": {},
   "outputs": [
    {
     "data": {
      "text/html": [
       "<div style=\"line-height: 2;\"><div style=\"margin-bottom:15px;\"><span style=\"background:white; color:black; display:inline-block; font-family:monospace; font-weight:bold; font-size:1.1em; padding:2px 6px; border-radius:4px; margin:1px;\">2<span style=\"color:black\">♠</span></span><span style=\"background:white; color:black; display:inline-block; font-family:monospace; font-weight:bold; font-size:1.1em; padding:2px 6px; border-radius:4px; margin:1px;\">3<span style=\"color:black\">♠</span></span><span style=\"background:white; color:black; display:inline-block; font-family:monospace; font-weight:bold; font-size:1.1em; padding:2px 6px; border-radius:4px; margin:1px;\">4<span style=\"color:black\">♠</span></span><span style=\"background:white; color:black; display:inline-block; font-family:monospace; font-weight:bold; font-size:1.1em; padding:2px 6px; border-radius:4px; margin:1px;\">5<span style=\"color:black\">♠</span></span><span style=\"background:white; color:black; display:inline-block; font-family:monospace; font-weight:bold; font-size:1.1em; padding:2px 6px; border-radius:4px; margin:1px;\">6<span style=\"color:black\">♠</span></span><span style=\"background:white; color:black; display:inline-block; font-family:monospace; font-weight:bold; font-size:1.1em; padding:2px 6px; border-radius:4px; margin:1px;\">7<span style=\"color:black\">♠</span></span><span style=\"background:white; color:black; display:inline-block; font-family:monospace; font-weight:bold; font-size:1.1em; padding:2px 6px; border-radius:4px; margin:1px;\">8<span style=\"color:black\">♠</span></span><span style=\"background:white; color:black; display:inline-block; font-family:monospace; font-weight:bold; font-size:1.1em; padding:2px 6px; border-radius:4px; margin:1px;\">9<span style=\"color:black\">♠</span></span><span style=\"background:white; color:black; display:inline-block; font-family:monospace; font-weight:bold; font-size:1.1em; padding:2px 6px; border-radius:4px; margin:1px;\">10<span style=\"color:black\">♠</span></span><span style=\"background:white; color:black; display:inline-block; font-family:monospace; font-weight:bold; font-size:1.1em; padding:2px 6px; border-radius:4px; margin:1px;\">J<span style=\"color:black\">♠</span></span><span style=\"background:white; color:black; display:inline-block; font-family:monospace; font-weight:bold; font-size:1.1em; padding:2px 6px; border-radius:4px; margin:1px;\">Q<span style=\"color:black\">♠</span></span><span style=\"background:lightcoral; color:black; display:inline-block; font-family:monospace; font-weight:bold; font-size:1.1em; padding:2px 6px; border-radius:4px; margin:1px;\">K<span style=\"color:black\">♠</span></span><span style=\"background:lightblue; color:black; display:inline-block; font-family:monospace; font-weight:bold; font-size:1.1em; padding:2px 6px; border-radius:4px; margin:1px;\">A<span style=\"color:black\">♠</span></span></div><div style=\"margin-bottom:15px;\"><span style=\"background:white; color:black; display:inline-block; font-family:monospace; font-weight:bold; font-size:1.1em; padding:2px 6px; border-radius:4px; margin:1px;\">2<span style=\"color:red\">♥</span></span><span style=\"background:white; color:black; display:inline-block; font-family:monospace; font-weight:bold; font-size:1.1em; padding:2px 6px; border-radius:4px; margin:1px;\">3<span style=\"color:red\">♥</span></span><span style=\"background:white; color:black; display:inline-block; font-family:monospace; font-weight:bold; font-size:1.1em; padding:2px 6px; border-radius:4px; margin:1px;\">4<span style=\"color:red\">♥</span></span><span style=\"background:white; color:black; display:inline-block; font-family:monospace; font-weight:bold; font-size:1.1em; padding:2px 6px; border-radius:4px; margin:1px;\">5<span style=\"color:red\">♥</span></span><span style=\"background:white; color:black; display:inline-block; font-family:monospace; font-weight:bold; font-size:1.1em; padding:2px 6px; border-radius:4px; margin:1px;\">6<span style=\"color:red\">♥</span></span><span style=\"background:white; color:black; display:inline-block; font-family:monospace; font-weight:bold; font-size:1.1em; padding:2px 6px; border-radius:4px; margin:1px;\">7<span style=\"color:red\">♥</span></span><span style=\"background:white; color:black; display:inline-block; font-family:monospace; font-weight:bold; font-size:1.1em; padding:2px 6px; border-radius:4px; margin:1px;\">8<span style=\"color:red\">♥</span></span><span style=\"background:white; color:black; display:inline-block; font-family:monospace; font-weight:bold; font-size:1.1em; padding:2px 6px; border-radius:4px; margin:1px;\">9<span style=\"color:red\">♥</span></span><span style=\"background:white; color:black; display:inline-block; font-family:monospace; font-weight:bold; font-size:1.1em; padding:2px 6px; border-radius:4px; margin:1px;\">10<span style=\"color:red\">♥</span></span><span style=\"background:white; color:black; display:inline-block; font-family:monospace; font-weight:bold; font-size:1.1em; padding:2px 6px; border-radius:4px; margin:1px;\">J<span style=\"color:red\">♥</span></span><span style=\"background:lightblue; color:black; display:inline-block; font-family:monospace; font-weight:bold; font-size:1.1em; padding:2px 6px; border-radius:4px; margin:1px;\">Q<span style=\"color:red\">♥</span></span><span style=\"background:white; color:black; display:inline-block; font-family:monospace; font-weight:bold; font-size:1.1em; padding:2px 6px; border-radius:4px; margin:1px;\">K<span style=\"color:red\">♥</span></span><span style=\"background:white; color:black; display:inline-block; font-family:monospace; font-weight:bold; font-size:1.1em; padding:2px 6px; border-radius:4px; margin:1px;\">A<span style=\"color:red\">♥</span></span></div><div style=\"margin-bottom:15px;\"><span style=\"background:white; color:black; display:inline-block; font-family:monospace; font-weight:bold; font-size:1.1em; padding:2px 6px; border-radius:4px; margin:1px;\">2<span style=\"color:black\">♣</span></span><span style=\"background:white; color:black; display:inline-block; font-family:monospace; font-weight:bold; font-size:1.1em; padding:2px 6px; border-radius:4px; margin:1px;\">3<span style=\"color:black\">♣</span></span><span style=\"background:white; color:black; display:inline-block; font-family:monospace; font-weight:bold; font-size:1.1em; padding:2px 6px; border-radius:4px; margin:1px;\">4<span style=\"color:black\">♣</span></span><span style=\"background:white; color:black; display:inline-block; font-family:monospace; font-weight:bold; font-size:1.1em; padding:2px 6px; border-radius:4px; margin:1px;\">5<span style=\"color:black\">♣</span></span><span style=\"background:white; color:black; display:inline-block; font-family:monospace; font-weight:bold; font-size:1.1em; padding:2px 6px; border-radius:4px; margin:1px;\">6<span style=\"color:black\">♣</span></span><span style=\"background:white; color:black; display:inline-block; font-family:monospace; font-weight:bold; font-size:1.1em; padding:2px 6px; border-radius:4px; margin:1px;\">7<span style=\"color:black\">♣</span></span><span style=\"background:white; color:black; display:inline-block; font-family:monospace; font-weight:bold; font-size:1.1em; padding:2px 6px; border-radius:4px; margin:1px;\">8<span style=\"color:black\">♣</span></span><span style=\"background:white; color:black; display:inline-block; font-family:monospace; font-weight:bold; font-size:1.1em; padding:2px 6px; border-radius:4px; margin:1px;\">9<span style=\"color:black\">♣</span></span><span style=\"background:white; color:black; display:inline-block; font-family:monospace; font-weight:bold; font-size:1.1em; padding:2px 6px; border-radius:4px; margin:1px;\">10<span style=\"color:black\">♣</span></span><span style=\"background:white; color:black; display:inline-block; font-family:monospace; font-weight:bold; font-size:1.1em; padding:2px 6px; border-radius:4px; margin:1px;\">J<span style=\"color:black\">♣</span></span><span style=\"background:lightcoral; color:black; display:inline-block; font-family:monospace; font-weight:bold; font-size:1.1em; padding:2px 6px; border-radius:4px; margin:1px;\">Q<span style=\"color:black\">♣</span></span><span style=\"background:white; color:black; display:inline-block; font-family:monospace; font-weight:bold; font-size:1.1em; padding:2px 6px; border-radius:4px; margin:1px;\">K<span style=\"color:black\">♣</span></span><span style=\"background:white; color:black; display:inline-block; font-family:monospace; font-weight:bold; font-size:1.1em; padding:2px 6px; border-radius:4px; margin:1px;\">A<span style=\"color:black\">♣</span></span></div><div style=\"margin-bottom:15px;\"><span style=\"background:white; color:black; display:inline-block; font-family:monospace; font-weight:bold; font-size:1.1em; padding:2px 6px; border-radius:4px; margin:1px;\">2<span style=\"color:red\">♦</span></span><span style=\"background:white; color:black; display:inline-block; font-family:monospace; font-weight:bold; font-size:1.1em; padding:2px 6px; border-radius:4px; margin:1px;\">3<span style=\"color:red\">♦</span></span><span style=\"background:white; color:black; display:inline-block; font-family:monospace; font-weight:bold; font-size:1.1em; padding:2px 6px; border-radius:4px; margin:1px;\">4<span style=\"color:red\">♦</span></span><span style=\"background:white; color:black; display:inline-block; font-family:monospace; font-weight:bold; font-size:1.1em; padding:2px 6px; border-radius:4px; margin:1px;\">5<span style=\"color:red\">♦</span></span><span style=\"background:white; color:black; display:inline-block; font-family:monospace; font-weight:bold; font-size:1.1em; padding:2px 6px; border-radius:4px; margin:1px;\">6<span style=\"color:red\">♦</span></span><span style=\"background:white; color:black; display:inline-block; font-family:monospace; font-weight:bold; font-size:1.1em; padding:2px 6px; border-radius:4px; margin:1px;\">7<span style=\"color:red\">♦</span></span><span style=\"background:white; color:black; display:inline-block; font-family:monospace; font-weight:bold; font-size:1.1em; padding:2px 6px; border-radius:4px; margin:1px;\">8<span style=\"color:red\">♦</span></span><span style=\"background:white; color:black; display:inline-block; font-family:monospace; font-weight:bold; font-size:1.1em; padding:2px 6px; border-radius:4px; margin:1px;\">9<span style=\"color:red\">♦</span></span><span style=\"background:white; color:black; display:inline-block; font-family:monospace; font-weight:bold; font-size:1.1em; padding:2px 6px; border-radius:4px; margin:1px;\">10<span style=\"color:red\">♦</span></span><span style=\"background:white; color:black; display:inline-block; font-family:monospace; font-weight:bold; font-size:1.1em; padding:2px 6px; border-radius:4px; margin:1px;\">J<span style=\"color:red\">♦</span></span><span style=\"background:white; color:black; display:inline-block; font-family:monospace; font-weight:bold; font-size:1.1em; padding:2px 6px; border-radius:4px; margin:1px;\">Q<span style=\"color:red\">♦</span></span><span style=\"background:white; color:black; display:inline-block; font-family:monospace; font-weight:bold; font-size:1.1em; padding:2px 6px; border-radius:4px; margin:1px;\">K<span style=\"color:red\">♦</span></span><span style=\"background:white; color:black; display:inline-block; font-family:monospace; font-weight:bold; font-size:1.1em; padding:2px 6px; border-radius:4px; margin:1px;\">A<span style=\"color:red\">♦</span></span></div></div>"
      ],
      "text/plain": [
       "<IPython.core.display.HTML object>"
      ]
     },
     "metadata": {},
     "output_type": "display_data"
    }
   ],
   "source": [
    "display(HTML(styled_deck_html(deck)))"
   ]
  },
  {
   "cell_type": "markdown",
   "id": "03dd4ef6-98c5-4ae9-b87e-666116a7ecde",
   "metadata": {},
   "source": [
    "### Ramdom & Depricated"
   ]
  },
  {
   "cell_type": "code",
   "execution_count": 44,
   "id": "65aedd55-6ce4-42d6-8e9a-c491b5897028",
   "metadata": {
    "scrolled": true
   },
   "outputs": [
    {
     "data": {
      "text/plain": [
       "\u001b[0;31mInit signature:\u001b[0m \u001b[0mCard\u001b[0m\u001b[0;34m(\u001b[0m\u001b[0mrank\u001b[0m\u001b[0;34m:\u001b[0m \u001b[0m__main__\u001b[0m\u001b[0;34m.\u001b[0m\u001b[0mRank\u001b[0m\u001b[0;34m,\u001b[0m \u001b[0msuit\u001b[0m\u001b[0;34m:\u001b[0m \u001b[0m__main__\u001b[0m\u001b[0;34m.\u001b[0m\u001b[0mSuit\u001b[0m\u001b[0;34m)\u001b[0m\u001b[0;34m\u001b[0m\u001b[0;34m\u001b[0m\u001b[0m\n",
       "\u001b[0;31mDocstring:\u001b[0m      <no docstring>\n",
       "\u001b[0;31mType:\u001b[0m           type\n",
       "\u001b[0;31mSubclasses:\u001b[0m     "
      ]
     },
     "metadata": {},
     "output_type": "display_data"
    }
   ],
   "source": [
    "# Adding doc string would be cool.\n",
    "Card?"
   ]
  },
  {
   "cell_type": "markdown",
   "id": "fdea192c-a285-43d0-a033-b8f4bfde1692",
   "metadata": {},
   "source": [
    "### Notes"
   ]
  },
  {
   "cell_type": "markdown",
   "id": "ee802eca-81c4-462b-a8e9-112a7e0573a1",
   "metadata": {},
   "source": [
    "<span style=\"color: green\">5/3/2025</span>\n",
    "\n",
    "Working on the Deck class currently. Have to implement hash and eq special methods to make it work in a set? Then i will need to create a display function to group cards by suit. uses lambda to sort. i am not all that familiar with that. I also imported display from IPython.display, which i did not have before\n",
    "\n",
    "<span style=\"color: red\">Dunder Eq and Hash</span>\n",
    "\n",
    "dunder eq & hash come into play when doing some_set = {card1, card2} so python can tell if they are the same.\n",
    "\n",
    "eq defines equality between objects.\n",
    "\n",
    "hash enables objects to use in sets and dicts: Python requires objects in sets/dicts to have a <b>hash value</b>: Number that stays the same as long as the object's value doesnt change. (Unique value for sets and maps)\n",
    "\n",
    "<span style=\"color: red\">Lambda functions</span>\n",
    "\n",
    "<span style=\"color: red\">IPython.display</span>"
   ]
  },
  {
   "cell_type": "markdown",
   "id": "186c00c5-14b4-4cea-8453-0c8584244f3e",
   "metadata": {},
   "source": [
    "<span style=\"color: green\">5/3/2025</span>\n",
    "\n",
    "Worked on getting the deck to display with burnt & dealt cards. Next want to work on a shuffle feature I think. It might be an easy change to get the deck to display with Ace's first. that is really just a small thing. Then I will eventually need to add players, gameflow, position, calculating, hands and pot odds. "
   ]
  },
  {
   "cell_type": "markdown",
   "id": "f2398cce-6395-4fad-9981-e62e345c6523",
   "metadata": {},
   "source": [
    "<span style=\"color: green\">5/4/2025</span>\n",
    "\n",
    "<span style=\"color: red\">Git & GitHub</span>\n",
    "\n",
    "<span style=\"color: red\">Uploading</span>\n",
    "\n",
    "Uploaded to Git & Github\n",
    "\n",
    "- git clone https://github.com/your-username/your-repo.git\n",
    "- cd your-repo\n",
    "- mv /path/to/your_notebook.ipynb .\n",
    "- git add your_notebook.ipynb\n",
    "- git commit -m \"Add my notebook\"\n",
    "- git push origin main\n",
    "\n",
    "Now I have a local git repository in my /poker folder linked to GitHub.\n",
    "\n",
    "If I were to move the entire folder (repository) everything works as long as I \n",
    "\n",
    "- navigate to new location to run Git commands\n",
    "- Git only works inside repo directory (Cant push/ pull from outside of it.)\n",
    "\n",
    "Once in Repo folder\n",
    "\n",
    "- git add \"my_notebook\"\n",
    "- git commit -m \"Add some message\"\n",
    "- git push origin main\n",
    "\n",
    "<span style=\"color: Red\">Branching</span>\n",
    "\n",
    "- git checkout -b new-feature\n",
    "- make changes ....\n",
    "- git add . (or file, cause I dont want to commit the database.)\n",
    "- git commit -m \"Message\"\n",
    "- git push origin main new-feature (push new branch to github, but for a solo project, terminal is faster.)\n",
    "\n",
    "<span style=\"color: Red\">Merging</span>\n",
    "\n",
    "- git checkout main\n",
    "- git pull origin main (make sure it's up to date.)\n",
    "- git merge new-feature\n",
    "\n",
    "If that Succeeds...\n",
    "\n",
    "- git push origin main (Update github with merged result)\n",
    "- git branch -d new-feature (delete local branch)\n",
    "- git push origin --delete new-feature (delete remote branch)\n",
    "\n",
    "Or use GitHub Interface...\n",
    "\n",
    "- Push your branch: git push origin new-feature\n",
    "- Go to GitHub, click \"Compare & Pull Request\"\n",
    "- Review and click \"Merge\"\n",
    "- Delete branch via button\n",
    "\n",
    "<span style=\"color: Red\">Stashing</span>\n",
    "\n",
    "Like puting your changes in a drawer and coming back to them later...\n",
    "\n",
    "- git stash save \"WIP: notebook update\" (stash with a message)\n",
    "- git stash list (list al stashes)\n",
    "- git stash pop stash@{1} (restore specific stash)\n",
    "- git stash drop stash@{0} (discard stash if no longer need it\n",
    "\n",
    "<span style=\"color: Red\">Naming Convention</span>\n",
    "\n",
    "_populate() or _funcition() means to say that: \"This is an implementaiton detail, and you probably shouldn't use it directly.\""
   ]
  }
 ],
 "metadata": {
  "kernelspec": {
   "display_name": "Python [conda env:base] *",
   "language": "python",
   "name": "conda-base-py"
  },
  "language_info": {
   "codemirror_mode": {
    "name": "ipython",
    "version": 3
   },
   "file_extension": ".py",
   "mimetype": "text/x-python",
   "name": "python",
   "nbconvert_exporter": "python",
   "pygments_lexer": "ipython3",
   "version": "3.12.7"
  }
 },
 "nbformat": 4,
 "nbformat_minor": 5
}
